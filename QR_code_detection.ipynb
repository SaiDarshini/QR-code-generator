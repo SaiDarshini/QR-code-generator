{
  "nbformat": 4,
  "nbformat_minor": 0,
  "metadata": {
    "colab": {
      "name": "Untitled1.ipynb",
      "provenance": [],
      "authorship_tag": "ABX9TyMPzc2937Ju6eNEwNpy++xV",
      "include_colab_link": true
    },
    "kernelspec": {
      "name": "python3",
      "display_name": "Python 3"
    },
    "language_info": {
      "name": "python"
    }
  },
  "cells": [
    {
      "cell_type": "markdown",
      "metadata": {
        "id": "view-in-github",
        "colab_type": "text"
      },
      "source": [
        "<a href=\"https://colab.research.google.com/github/SaiDarshini/QR-code-generator/blob/main/QR_code_detection.ipynb\" target=\"_parent\"><img src=\"https://colab.research.google.com/assets/colab-badge.svg\" alt=\"Open In Colab\"/></a>"
      ]
    },
    {
      "cell_type": "code",
      "metadata": {
        "colab": {
          "base_uri": "https://localhost:8080/"
        },
        "id": "GDaaeDDc8AN_",
        "outputId": "86f46fc0-0e10-4da0-b84d-b493e4630bf2"
      },
      "source": [
        "pip install qrcode"
      ],
      "execution_count": 2,
      "outputs": [
        {
          "output_type": "stream",
          "name": "stdout",
          "text": [
            "Collecting qrcode\n",
            "  Downloading qrcode-7.3.tar.gz (43 kB)\n",
            "\u001b[?25l\r\u001b[K     |███████▋                        | 10 kB 23.0 MB/s eta 0:00:01\r\u001b[K     |███████████████▏                | 20 kB 23.6 MB/s eta 0:00:01\r\u001b[K     |██████████████████████▊         | 30 kB 12.2 MB/s eta 0:00:01\r\u001b[K     |██████████████████████████████▎ | 40 kB 9.5 MB/s eta 0:00:01\r\u001b[K     |████████████████████████████████| 43 kB 856 kB/s \n",
            "\u001b[?25hBuilding wheels for collected packages: qrcode\n",
            "  Building wheel for qrcode (setup.py) ... \u001b[?25l\u001b[?25hdone\n",
            "  Created wheel for qrcode: filename=qrcode-7.3-py3-none-any.whl size=40238 sha256=61ae351c8ca849bbce382d71c9e26811893d99edd0010825ea04614596d4b66a\n",
            "  Stored in directory: /root/.cache/pip/wheels/4f/ed/3e/24f78bcb5ee2f41ec2322691ff82ed037f7f5a21d79ed33565\n",
            "Successfully built qrcode\n",
            "Installing collected packages: qrcode\n",
            "Successfully installed qrcode-7.3\n"
          ]
        }
      ]
    },
    {
      "cell_type": "code",
      "metadata": {
        "id": "xG2xVra49PcA"
      },
      "source": [
        "import qrcode"
      ],
      "execution_count": 3,
      "outputs": []
    },
    {
      "cell_type": "code",
      "metadata": {
        "id": "1R2Z_H-w9f4z"
      },
      "source": [
        "import cv2"
      ],
      "execution_count": 4,
      "outputs": []
    },
    {
      "cell_type": "code",
      "metadata": {
        "id": "bzzwzmnI9iDh"
      },
      "source": [
        "from google.colab.patches import cv2_imshow"
      ],
      "execution_count": 5,
      "outputs": []
    },
    {
      "cell_type": "code",
      "metadata": {
        "id": "Hx5CRyhv9zmI"
      },
      "source": [
        "img=qrcode.make(\"Hello Everyone! This is Darshini\")"
      ],
      "execution_count": 6,
      "outputs": []
    },
    {
      "cell_type": "code",
      "metadata": {
        "colab": {
          "base_uri": "https://localhost:8080/"
        },
        "id": "ycsc0SlH-K7G",
        "outputId": "35ec49e2-e0d7-46a5-c3fb-cccd79e5c242"
      },
      "source": [
        "print(img.size)"
      ],
      "execution_count": 7,
      "outputs": [
        {
          "output_type": "stream",
          "name": "stdout",
          "text": [
            "(370, 370)\n"
          ]
        }
      ]
    },
    {
      "cell_type": "code",
      "metadata": {
        "colab": {
          "base_uri": "https://localhost:8080/"
        },
        "id": "ciA2igAm-YoC",
        "outputId": "eb44a952-ecda-414b-825b-28fb6335ede7"
      },
      "source": [
        "print(type(img))"
      ],
      "execution_count": 8,
      "outputs": [
        {
          "output_type": "stream",
          "name": "stdout",
          "text": [
            "<class 'qrcode.image.pil.PilImage'>\n"
          ]
        }
      ]
    },
    {
      "cell_type": "code",
      "metadata": {
        "id": "fuAfLbrs-ccp"
      },
      "source": [
        "img.save('/content/QRgen.png')"
      ],
      "execution_count": 9,
      "outputs": []
    },
    {
      "cell_type": "code",
      "metadata": {
        "id": "W7783JyK-8lI"
      },
      "source": [
        "image=cv2.imread('/content/QRgen.png')"
      ],
      "execution_count": 10,
      "outputs": []
    },
    {
      "cell_type": "code",
      "metadata": {
        "colab": {
          "base_uri": "https://localhost:8080/",
          "height": 387
        },
        "id": "W-Nx4xLh_G0t",
        "outputId": "1e1bd5e3-307c-4679-b568-64ad0bb40c73"
      },
      "source": [
        "cv2_imshow(image)"
      ],
      "execution_count": 11,
      "outputs": [
        {
          "output_type": "display_data",
          "data": {
            "image/png": "[encoded data removed]",
            "text/plain": [
              "<PIL.Image.Image image mode=RGB size=370x370 at 0x7F421FB07910>"
            ]
          },
          "metadata": {}
        }
      ]
    },
    {
      "cell_type": "code",
      "metadata": {
        "id": "wcazhoc6_Ksz"
      },
      "source": [
        "detector=cv2.QRCodeDetector()"
      ],
      "execution_count": 12,
      "outputs": []
    },
    {
      "cell_type": "code",
      "metadata": {
        "id": "dBpXuw2imNry"
      },
      "source": [
        "data, bbox, straight_qr=detector.detectAndDecode(image)"
      ],
      "execution_count": 14,
      "outputs": []
    },
    {
      "cell_type": "code",
      "metadata": {
        "colab": {
          "base_uri": "https://localhost:8080/"
        },
        "id": "6u9luWfLm1JD",
        "outputId": "287ce6bb-0960-46cd-d034-1ad5993e8ad1"
      },
      "source": [
        "print('Detected data=>',data)"
      ],
      "execution_count": 15,
      "outputs": [
        {
          "output_type": "stream",
          "name": "stdout",
          "text": [
            "Detected data=> Hello Everyone! This is Darshini\n"
          ]
        }
      ]
    },
    {
      "cell_type": "code",
      "metadata": {
        "colab": {
          "base_uri": "https://localhost:8080/"
        },
        "id": "S-caNE4TnbuD",
        "outputId": "377e892e-6ce5-4727-b290-14b545f7bea8"
      },
      "source": [
        "bbox"
      ],
      "execution_count": 16,
      "outputs": [
        {
          "output_type": "execute_result",
          "data": {
            "text/plain": [
              "array([[[ 40.,  40.]],\n",
              "\n",
              "       [[329.,  40.]],\n",
              "\n",
              "       [[329., 329.]],\n",
              "\n",
              "       [[ 40., 329.]]], dtype=float32)"
            ]
          },
          "metadata": {},
          "execution_count": 16
        }
      ]
    },
    {
      "cell_type": "code",
      "metadata": {
        "id": "hWh0HZdJnfTi"
      },
      "source": [
        ""
      ],
      "execution_count": null,
      "outputs": []
    }
  ]
}